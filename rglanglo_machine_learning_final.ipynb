{
  "cells": [
    {
      "cell_type": "markdown",
      "metadata": {
        "id": "ITa-Jchmf10d"
      },
      "source": [
        "### Ryan Langlois\n",
        "Sign Language Computer Vision"
      ]
    },
    {
      "cell_type": "markdown",
      "metadata": {
        "id": "8uZ5_MMhf10j"
      },
      "source": [
        "Initial Imports"
      ]
    },
    {
      "cell_type": "code",
      "execution_count": 2,
      "metadata": {
        "id": "2BGmBKV1f10l"
      },
      "outputs": [],
      "source": [
        "import numpy as np\n",
        "import matplotlib.pyplot as plt\n",
        "import pandas as pd\n"
      ]
    },
    {
      "cell_type": "markdown",
      "metadata": {
        "id": "rrBPyeIof10n"
      },
      "source": [
        "Loading Data"
      ]
    },
    {
      "cell_type": "code",
      "execution_count": 3,
      "metadata": {
        "id": "wBkq-qMNf10o"
      },
      "outputs": [],
      "source": [
        "train_data = pd.read_csv('https://raw.githubusercontent.com/Astute-2319/CS5990-Group7-Final-Project/refs/heads/main/archive/sign_mnist_train.csv')\n",
        "test_data = pd.read_csv('https://raw.githubusercontent.com/Astute-2319/CS5990-Group7-Final-Project/refs/heads/main/archive/sign_mnist_test.csv')\n",
        "\n",
        "train_data_labels = pd.get_dummies(train_data['label'], dtype = int).to_numpy()\n",
        "test_data_labels = pd.get_dummies(test_data['label'], dtype = int).to_numpy()\n",
        "\n",
        "train_data = train_data.drop('label', axis = 1).to_numpy().reshape(train_data.shape[0], 28, 28, 1)\n",
        "test_data = test_data.drop('label', axis = 1).to_numpy().reshape(test_data.shape[0], 28, 28, 1)"
      ]
    },
    {
      "cell_type": "markdown",
      "metadata": {
        "id": "rBHJLJ6cf10q"
      },
      "source": [
        "Check data loaded properly"
      ]
    },
    {
      "cell_type": "code",
      "source": [
        "train_data_labels"
      ],
      "metadata": {
        "colab": {
          "base_uri": "https://localhost:8080/"
        },
        "id": "9D8QNSA7kbMV",
        "outputId": "24f107d8-4356-40d8-aef4-cd440526c181"
      },
      "execution_count": 4,
      "outputs": [
        {
          "output_type": "execute_result",
          "data": {
            "text/plain": [
              "array([[0, 0, 0, ..., 0, 0, 0],\n",
              "       [0, 0, 0, ..., 0, 0, 0],\n",
              "       [0, 0, 1, ..., 0, 0, 0],\n",
              "       ...,\n",
              "       [0, 0, 0, ..., 0, 0, 0],\n",
              "       [0, 0, 0, ..., 0, 0, 0],\n",
              "       [0, 0, 0, ..., 0, 1, 0]])"
            ]
          },
          "metadata": {},
          "execution_count": 4
        }
      ]
    },
    {
      "cell_type": "markdown",
      "metadata": {
        "id": "w6qpq-gzf10t"
      },
      "source": [
        "**In the data, label 0 is 'A', label 1 is 'B', etc.**\n",
        "\n",
        "No J or Z in the dataset"
      ]
    },
    {
      "cell_type": "code",
      "execution_count": 5,
      "metadata": {
        "id": "VFHgN2Y0f10u"
      },
      "outputs": [],
      "source": [
        "labels = ['A', 'B', 'C', 'D', 'E', 'F', 'G', 'H', 'I', 'K', 'L', 'M', 'N', 'O', 'P', 'Q', 'R', 'S', 'T', 'U', 'V', 'W', 'X', 'Y']"
      ]
    },
    {
      "cell_type": "markdown",
      "metadata": {
        "id": "k0AnJ3jsf10x"
      },
      "source": [
        "Keras stuff - CSV"
      ]
    },
    {
      "cell_type": "code",
      "execution_count": 6,
      "metadata": {
        "id": "LqAy-ocof10y"
      },
      "outputs": [],
      "source": [
        "import tensorflow as tf\n",
        "from tensorflow.keras import layers"
      ]
    },
    {
      "cell_type": "code",
      "execution_count": 7,
      "metadata": {
        "colab": {
          "base_uri": "https://localhost:8080/"
        },
        "id": "dw32h2-uf10y",
        "outputId": "9ed793dd-3e46-4a2b-9e42-39ec402e1a89"
      },
      "outputs": [
        {
          "output_type": "stream",
          "name": "stderr",
          "text": [
            "/usr/local/lib/python3.10/dist-packages/keras/src/layers/convolutional/base_conv.py:107: UserWarning: Do not pass an `input_shape`/`input_dim` argument to a layer. When using Sequential models, prefer using an `Input(shape)` object as the first layer in the model instead.\n",
            "  super().__init__(activity_regularizer=activity_regularizer, **kwargs)\n"
          ]
        }
      ],
      "source": [
        "model = tf.keras.Sequential([\n",
        "  layers.Conv2D(75, (3, 3), strides=1, padding=\"same\", activation=\"relu\", input_shape=(28, 28, 1)),\n",
        "  layers.BatchNormalization(),\n",
        "  layers.MaxPool2D((2, 2), strides=2, padding=\"same\"),\n",
        "  layers.Conv2D(50, (3, 3), strides=1, padding=\"same\", activation=\"relu\"),\n",
        "  layers.Dropout(0.2),\n",
        "  layers.BatchNormalization(),\n",
        "  layers.MaxPool2D((2, 2), strides=2, padding=\"same\"),\n",
        "  layers.Conv2D(25, (3, 3), strides=1, padding=\"same\", activation=\"relu\"),\n",
        "  layers.BatchNormalization(),\n",
        "  layers.MaxPool2D((2, 2), strides=2, padding=\"same\"),\n",
        "  layers.Flatten(),\n",
        "  layers.Dense(units=512, activation=\"relu\"),\n",
        "  layers.Dropout(0.3),\n",
        "  layers.Dense(units=24, activation=\"softmax\")\n",
        "])\n",
        "\n",
        "model.compile(optimizer = 'adam', loss = 'categorical_crossentropy', metrics = ['accuracy'])"
      ]
    },
    {
      "cell_type": "code",
      "execution_count": 8,
      "metadata": {
        "colab": {
          "base_uri": "https://localhost:8080/"
        },
        "id": "vWUqi4hvf10z",
        "outputId": "7c8b80b3-0aa2-460f-b707-5e666516b59d"
      },
      "outputs": [
        {
          "output_type": "stream",
          "name": "stdout",
          "text": [
            "Epoch 1/7\n",
            "\u001b[1m858/858\u001b[0m \u001b[32m━━━━━━━━━━━━━━━━━━━━\u001b[0m\u001b[37m\u001b[0m \u001b[1m124s\u001b[0m 141ms/step - accuracy: 0.7297 - loss: 0.9189\n",
            "Epoch 2/7\n",
            "\u001b[1m858/858\u001b[0m \u001b[32m━━━━━━━━━━━━━━━━━━━━\u001b[0m\u001b[37m\u001b[0m \u001b[1m129s\u001b[0m 126ms/step - accuracy: 0.9924 - loss: 0.0276\n",
            "Epoch 3/7\n",
            "\u001b[1m858/858\u001b[0m \u001b[32m━━━━━━━━━━━━━━━━━━━━\u001b[0m\u001b[37m\u001b[0m \u001b[1m107s\u001b[0m 124ms/step - accuracy: 0.9900 - loss: 0.0316\n",
            "Epoch 4/7\n",
            "\u001b[1m858/858\u001b[0m \u001b[32m━━━━━━━━━━━━━━━━━━━━\u001b[0m\u001b[37m\u001b[0m \u001b[1m141s\u001b[0m 123ms/step - accuracy: 0.9979 - loss: 0.0064\n",
            "Epoch 5/7\n",
            "\u001b[1m858/858\u001b[0m \u001b[32m━━━━━━━━━━━━━━━━━━━━\u001b[0m\u001b[37m\u001b[0m \u001b[1m141s\u001b[0m 122ms/step - accuracy: 0.9903 - loss: 0.0331\n",
            "Epoch 6/7\n",
            "\u001b[1m858/858\u001b[0m \u001b[32m━━━━━━━━━━━━━━━━━━━━\u001b[0m\u001b[37m\u001b[0m \u001b[1m144s\u001b[0m 124ms/step - accuracy: 0.9977 - loss: 0.0087\n",
            "Epoch 7/7\n",
            "\u001b[1m858/858\u001b[0m \u001b[32m━━━━━━━━━━━━━━━━━━━━\u001b[0m\u001b[37m\u001b[0m \u001b[1m140s\u001b[0m 122ms/step - accuracy: 0.9958 - loss: 0.0122\n"
          ]
        },
        {
          "output_type": "execute_result",
          "data": {
            "text/plain": [
              "<keras.src.callbacks.history.History at 0x7b1a07c85750>"
            ]
          },
          "metadata": {},
          "execution_count": 8
        }
      ],
      "source": [
        "model.fit(train_data, train_data_labels, epochs=7)"
      ]
    },
    {
      "cell_type": "code",
      "execution_count": 9,
      "metadata": {
        "colab": {
          "base_uri": "https://localhost:8080/"
        },
        "id": "0I4oK9xnf10z",
        "outputId": "5e526290-af7f-4427-86a2-e8a51e610623"
      },
      "outputs": [
        {
          "output_type": "stream",
          "name": "stdout",
          "text": [
            "\u001b[1m225/225\u001b[0m \u001b[32m━━━━━━━━━━━━━━━━━━━━\u001b[0m\u001b[37m\u001b[0m \u001b[1m6s\u001b[0m 25ms/step\n"
          ]
        }
      ],
      "source": [
        "prediction = model.predict(test_data)\n",
        "guesses = []\n",
        "\n",
        "for p in prediction:\n",
        "    guesses.append(np.argmax(p))\n",
        "\n",
        "prediction = guesses"
      ]
    },
    {
      "cell_type": "code",
      "execution_count": 10,
      "metadata": {
        "colab": {
          "base_uri": "https://localhost:8080/",
          "height": 430
        },
        "id": "HAl-Z_QTf100",
        "outputId": "0079a85c-69f6-4185-ee90-b57b957454e0"
      },
      "outputs": [
        {
          "output_type": "display_data",
          "data": {
            "text/plain": [
              "<Figure size 640x480 with 1 Axes>"
            ],
            "image/png": "[encoded data removed]"
          },
          "metadata": {}
        }
      ],
      "source": [
        "# This is a histogram of counts given to each label\n",
        "plt.hist(prediction, bins=25)\n",
        "plt.show()"
      ]
    },
    {
      "cell_type": "code",
      "execution_count": 11,
      "metadata": {
        "colab": {
          "base_uri": "https://localhost:8080/"
        },
        "id": "meSMO5AFf101",
        "outputId": "57599f23-2cb7-49e6-902c-8a1351133f03"
      },
      "outputs": [
        {
          "output_type": "stream",
          "name": "stdout",
          "text": [
            "Total correct: 6685\n",
            "Total items: 7172\n",
            "Ratio correct: 0.9320970440602342\n"
          ]
        }
      ],
      "source": [
        "total_correct = 0\n",
        "index = 0\n",
        "for index, p in enumerate(prediction):\n",
        "    if p == np.argmax(test_data_labels[index]):\n",
        "        total_correct += 1\n",
        "\n",
        "print(\"Total correct:\", total_correct)\n",
        "print(\"Total items:\", len(test_data_labels))\n",
        "print(\"Ratio correct:\", total_correct/len(test_data_labels))"
      ]
    },
    {
      "cell_type": "code",
      "source": [
        "from sklearn.metrics import confusion_matrix\n",
        "\n",
        "conf_matrix = confusion_matrix(np.argmax(test_data_labels, axis=1), prediction)\n",
        "conf_matrix = pd.DataFrame(conf_matrix, columns = labels, index = labels)\n",
        "plt.title('Confusion Matrix Heat Map - Neural Network')\n",
        "plt.xlabel('True Class')\n",
        "plt.ylabel('Predicted Class')\n",
        "plt.imshow(conf_matrix)\n",
        "plt.colorbar()"
      ],
      "metadata": {
        "colab": {
          "base_uri": "https://localhost:8080/",
          "height": 489
        },
        "id": "_Q4_tg6xFWSV",
        "outputId": "63ac2d8c-a061-456e-a24e-65754b0c013b"
      },
      "execution_count": 14,
      "outputs": [
        {
          "output_type": "execute_result",
          "data": {
            "text/plain": [
              "<matplotlib.colorbar.Colorbar at 0x7b1a045c7910>"
            ]
          },
          "metadata": {},
          "execution_count": 14
        },
        {
          "output_type": "display_data",
          "data": {
            "text/plain": [
              "<Figure size 640x480 with 2 Axes>"
            ],
            "image/png": "[encoded data removed]"
          },
          "metadata": {}
        }
      ]
    }
  ],
  "metadata": {
    "kernelspec": {
      "display_name": "Python 3",
      "language": "python",
      "name": "python3"
    },
    "language_info": {
      "codemirror_mode": {
        "name": "ipython",
        "version": 3
      },
      "file_extension": ".py",
      "mimetype": "text/x-python",
      "name": "python",
      "nbconvert_exporter": "python",
      "pygments_lexer": "ipython3",
      "version": "3.12.7"
    },
    "colab": {
      "provenance": []
    }
  },
  "nbformat": 4,
  "nbformat_minor": 0
}